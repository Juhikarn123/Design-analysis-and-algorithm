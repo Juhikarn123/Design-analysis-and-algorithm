{
  "nbformat": 4,
  "nbformat_minor": 0,
  "metadata": {
    "colab": {
      "provenance": [],
      "authorship_tag": "ABX9TyNIoUXkksrDbhH/lbBiDYXc",
      "include_colab_link": true
    },
    "kernelspec": {
      "name": "python3",
      "display_name": "Python 3"
    },
    "language_info": {
      "name": "python"
    }
  },
  "cells": [
    {
      "cell_type": "markdown",
      "metadata": {
        "id": "view-in-github",
        "colab_type": "text"
      },
      "source": [
        "<a href=\"https://colab.research.google.com/github/Juhikarn123/Design-analysis-and-algorithm/blob/main/multiplysquarematrix.ipynb\" target=\"_parent\"><img src=\"https://colab.research.google.com/assets/colab-badge.svg\" alt=\"Open In Colab\"/></a>"
      ]
    },
    {
      "cell_type": "code",
      "execution_count": null,
      "metadata": {
        "colab": {
          "base_uri": "https://localhost:8080/"
        },
        "id": "F3AxoqWPBeIY",
        "outputId": "3fbca603-eba0-4228-eea1-2df6b7107c07"
      },
      "outputs": [
        {
          "output_type": "stream",
          "name": "stdout",
          "text": [
            "Enter the Number of rows for the first metriz: 2\n",
            "Enver the Number of Columns for the firet matrix: 2\n",
            "Enter the elements of First Matrix:\n",
            "1\n",
            "2\n",
            "4\n",
            "5\n",
            "First Matrix is: \n",
            "[1, 2]\n",
            "[4, 5]\n",
            "Enter the Number of Columns for the second matrix: 2\n",
            "Enter the elements of Second Matrix:\n",
            "3\n",
            "4\n",
            "5\n",
            "6\n",
            "[3, 4]\n",
            "[5, 6]\n",
            "\n",
            "Matrix_a X Matrix_b is: \n",
            "[13, 16]\n",
            "[37, 46]\n"
          ]
        }
      ],
      "source": [
        "rows_a =int(input (\"Enter the Number of rows for the first metriz: \"))\n",
        "column_a=int(input (\"Enver the Number of Columns for the firet matrix: \"))\n",
        "print(\"Enter the elements of First Matrix:\")\n",
        "matrix_a=[[int(input()) for i in range(column_a)] for i in range(rows_a)]\n",
        "print(\"First Matrix is: \")\n",
        "for n in matrix_a:\n",
        "  print(n)\n",
        "column_b=int(input (\"Enter the Number of Columns for the second matrix: \"))\n",
        "print(\"Enter the elements of Second Matrix:\")\n",
        "matrix_b=[[int(input()) for i in range(column_b)] for i in range(rows_a)]\n",
        "for n in matrix_b:\n",
        "  print(n)\n",
        "result=[[0 for i in range(column_b)] for i in range(rows_a)]\n",
        "for i in range(len(matrix_a)):\n",
        "  for j in range(len(matrix_b)):\n",
        "    for k in range(len(matrix_b)):\n",
        "      result [i][j]+=matrix_a[i][k]*matrix_b[k][j]\n",
        "print(\"\\nMatrix_a X Matrix_b is: \")\n",
        "for r in result:\n",
        "  print(r)\n"
      ]
    }
  ]
}