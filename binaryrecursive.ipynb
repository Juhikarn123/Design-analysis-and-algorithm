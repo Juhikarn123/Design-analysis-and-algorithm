{
  "nbformat": 4,
  "nbformat_minor": 0,
  "metadata": {
    "colab": {
      "provenance": [],
      "authorship_tag": "ABX9TyN3ojWMbc+yHpyc1TUfH5wW",
      "include_colab_link": true
    },
    "kernelspec": {
      "name": "python3",
      "display_name": "Python 3"
    },
    "language_info": {
      "name": "python"
    }
  },
  "cells": [
    {
      "cell_type": "markdown",
      "metadata": {
        "id": "view-in-github",
        "colab_type": "text"
      },
      "source": [
        "<a href=\"https://colab.research.google.com/github/Juhikarn123/Design-analysis-and-algorithm/blob/main/binaryrecursive.ipynb\" target=\"_parent\"><img src=\"https://colab.research.google.com/assets/colab-badge.svg\" alt=\"Open In Colab\"/></a>"
      ]
    },
    {
      "cell_type": "code",
      "execution_count": null,
      "metadata": {
        "colab": {
          "base_uri": "https://localhost:8080/"
        },
        "id": "yfQTelLcWxZy",
        "outputId": "dd8e8b96-61fc-4413-98e7-8883b62242fe"
      },
      "outputs": [
        {
          "output_type": "stream",
          "name": "stdout",
          "text": [
            "[3, 4, 8, 11, 14, 18, 20, 24, 34, 39, 47, 55, 74, 81, 84, 85, 87, 92, 95, 97]\n",
            "element is present at index 6\n"
          ]
        }
      ],
      "source": [
        "import random\n",
        "def binary_search(arr,low,high,x):\n",
        "  if high>=low:\n",
        "    mid=(high+low)//2\n",
        "    if arr[mid]==x:\n",
        "      return mid\n",
        "    elif arr[mid]>x:\n",
        "      return binary_search(arr,low,mid-1,x)\n",
        "    else:\n",
        "      return binary_search(arr,mid+1,high,x)\n",
        "  else:\n",
        "    return -1\n",
        "arr=random.sample(range(1,100),20)\n",
        "arr.sort()\n",
        "print(arr)\n",
        "x=20\n",
        "result=binary_search(arr,0,len(arr)-1,x)\n",
        "if result!=-1:\n",
        "  print(\"element is present at index\",str(result))\n",
        "else:\n",
        "  print(\"element is not present in array\")"
      ]
    }
  ]
}