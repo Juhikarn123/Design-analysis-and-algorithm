{
  "nbformat": 4,
  "nbformat_minor": 0,
  "metadata": {
    "colab": {
      "provenance": [],
      "include_colab_link": true
    },
    "kernelspec": {
      "name": "python3",
      "display_name": "Python 3"
    },
    "language_info": {
      "name": "python"
    }
  },
  "cells": [
    {
      "cell_type": "markdown",
      "metadata": {
        "id": "view-in-github",
        "colab_type": "text"
      },
      "source": [
        "<a href=\"https://colab.research.google.com/github/Juhikarn123/Design-analysis-and-algorithm/blob/main/Binaryiterative.ipynb\" target=\"_parent\"><img src=\"https://colab.research.google.com/assets/colab-badge.svg\" alt=\"Open In Colab\"/></a>"
      ]
    },
    {
      "cell_type": "code",
      "execution_count": null,
      "metadata": {
        "colab": {
          "base_uri": "https://localhost:8080/"
        },
        "id": "kEgUaYezNZqg",
        "outputId": "70f5d2fe-c986-4e05-ad6a-ce475dfbf8a2"
      },
      "outputs": [
        {
          "output_type": "stream",
          "name": "stdout",
          "text": [
            "[1, 3, 6, 13, 19, 21, 24, 28, 37, 46, 54, 59, 60, 76, 77, 85, 89, 95, 96, 99]\n",
            "elements is not present in array\n"
          ]
        }
      ],
      "source": [
        "import random\n",
        "def binary_search(arr,x):\n",
        "  low=0\n",
        "  high=len(arr)-1\n",
        "  mid=0\n",
        "  while low<=high:\n",
        "    mid=(high+low)//2\n",
        "    if arr[mid]<x:\n",
        "      low=mid+1\n",
        "    elif arr[mid]>x:\n",
        "      high=mid-1\n",
        "    else:\n",
        "      return mid\n",
        "  return -1\n",
        "arr=random.sample(range(1,100),20)\n",
        "arr.sort()\n",
        "print(arr)\n",
        "x=20\n",
        "result=binary_search(arr,x)\n",
        "if result!=-1:\n",
        "  print(\"Element is present at index\",str(result))\n",
        "else:\n",
        "  print(\"elements is not present in array\")"
      ]
    }
  ]
}