{
  "nbformat": 4,
  "nbformat_minor": 0,
  "metadata": {
    "colab": {
      "provenance": [],
      "authorship_tag": "ABX9TyO6b5m9WLI2a3d+qsqHzMgi",
      "include_colab_link": true
    },
    "kernelspec": {
      "name": "python3",
      "display_name": "Python 3"
    },
    "language_info": {
      "name": "python"
    }
  },
  "cells": [
    {
      "cell_type": "markdown",
      "metadata": {
        "id": "view-in-github",
        "colab_type": "text"
      },
      "source": [
        "<a href=\"https://colab.research.google.com/github/Juhikarn123/Design-analysis-and-algorithm/blob/main/MatrixChainMultiplication.ipynb\" target=\"_parent\"><img src=\"https://colab.research.google.com/assets/colab-badge.svg\" alt=\"Open In Colab\"/></a>"
      ]
    },
    {
      "cell_type": "code",
      "execution_count": null,
      "metadata": {
        "colab": {
          "base_uri": "https://localhost:8080/"
        },
        "id": "Ql-YmNzfYkKR",
        "outputId": "1ca5b238-27fd-4a1b-cb57-c9cd2e6e87ec"
      },
      "outputs": [
        {
          "output_type": "stream",
          "name": "stdout",
          "text": [
            "minimum number of multiplication are21\n"
          ]
        }
      ],
      "source": [
        "def MatChainMul(arr,n):\n",
        "  dp=[[0 for i in range(n)]for j in range(n)]\n",
        "  for i in range(1,n):\n",
        "    dp[i][i]=0\n",
        "  for L in range(2,n):\n",
        "    for i in range(1,n-L+1):\n",
        "      j=i+L-1\n",
        "      dp[i][j]=10**10\n",
        "      for k in range(i,j):\n",
        "        q=dp[i][k]+dp[k+1][j]+arr[i-1]*arr[k]*arr[j]\n",
        "        if q<dp[i][j]:\n",
        "          dp[i][j]=q\n",
        "  return dp[1][n-1]\n",
        "arr=[1,2,3,5]\n",
        "size=len(arr)\n",
        "print(\"minimum number of multiplication are\"+str(MatChainMul(arr,size)))"
      ]
    }
  ]
}