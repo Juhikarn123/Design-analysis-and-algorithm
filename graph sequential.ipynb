{
  "nbformat": 4,
  "nbformat_minor": 0,
  "metadata": {
    "colab": {
      "provenance": [],
      "include_colab_link": true
    },
    "kernelspec": {
      "name": "python3",
      "display_name": "Python 3"
    },
    "language_info": {
      "name": "python"
    }
  },
  "cells": [
    {
      "cell_type": "markdown",
      "metadata": {
        "id": "view-in-github",
        "colab_type": "text"
      },
      "source": [
        "<a href=\"https://colab.research.google.com/github/Juhikarn123/Design-analysis-and-algorithm/blob/main/graph%20sequential.ipynb\" target=\"_parent\"><img src=\"https://colab.research.google.com/assets/colab-badge.svg\" alt=\"Open In Colab\"/></a>"
      ]
    },
    {
      "cell_type": "code",
      "execution_count": null,
      "metadata": {
        "colab": {
          "base_uri": "https://localhost:8080/"
        },
        "id": "FLAFMj6zmP3s",
        "outputId": "ebf43710-ebcc-4665-9874-523a49ece0a3"
      },
      "outputs": [
        {
          "output_type": "stream",
          "name": "stdout",
          "text": [
            "OUTPUT:\n",
            "vertices of gioven graph are:\n",
            "['a', 'b', 'c', 'd', 'e']\n",
            "Edges of given graph are:\n",
            "[{'a', 'b'}, {'a', 'c'}, {'d', 'b'}, {'d', 'c'}, {'e', 'd'}]\n"
          ]
        }
      ],
      "source": [
        "class graph:\n",
        "  def __init__(self,gdit=None):\n",
        "    if gdict is None:\n",
        "      gdict=[]\n",
        "    self.gdict=gdict\n",
        "  def getVertices(self):\n",
        "    return list(self.gdict.keys())\n",
        "  def __init__(self,gdict=None):\n",
        "    if gdict is None:\n",
        "      gdict={}\n",
        "    self.gdict=gdict\n",
        "  def edges(self):\n",
        "    return self.findedges()\n",
        "  def findedges(self):\n",
        "    edgename=[]\n",
        "    for vrtx in self.gdict:\n",
        "      for nxtvrtx in self.gdict[vrtx]:\n",
        "        if{nxtvrtx,vrtx} not in edgename:\n",
        "          edgename.append({vrtx,nxtvrtx})\n",
        "    return edgename\n",
        "graph_elements={\n",
        "    \"a\":[\"b\",\"c\"],\n",
        "    \"b\":[\"a\",\"d\"],\n",
        "    \"c\":[\"a\",\"d\"],\n",
        "    \"d\":[\"e\"],\n",
        "    \"e\":[\"d\"]\n",
        "}\n",
        "print(\"OUTPUT:\")\n",
        "g=graph(graph_elements)\n",
        "print(\"vertices of gioven graph are:\")\n",
        "print(g.getVertices())\n",
        "print(\"Edges of given graph are:\")\n",
        "print(g.edges())"
      ]
    }
  ]
}