{
  "nbformat": 4,
  "nbformat_minor": 0,
  "metadata": {
    "colab": {
      "provenance": [],
      "authorship_tag": "ABX9TyNYKwoY6dkdm3UZ36jEn6dq",
      "include_colab_link": true
    },
    "kernelspec": {
      "name": "python3",
      "display_name": "Python 3"
    },
    "language_info": {
      "name": "python"
    }
  },
  "cells": [
    {
      "cell_type": "markdown",
      "metadata": {
        "id": "view-in-github",
        "colab_type": "text"
      },
      "source": [
        "<a href=\"https://colab.research.google.com/github/Juhikarn123/Design-analysis-and-algorithm/blob/main/minimumspanningtree.ipynb\" target=\"_parent\"><img src=\"https://colab.research.google.com/assets/colab-badge.svg\" alt=\"Open In Colab\"/></a>"
      ]
    },
    {
      "cell_type": "code",
      "execution_count": null,
      "metadata": {
        "colab": {
          "base_uri": "https://localhost:8080/"
        },
        "id": "P5wlQqnqu_OZ",
        "outputId": "316774c7-35dc-4141-ac0f-e67f229c314e"
      },
      "outputs": [
        {
          "output_type": "stream",
          "name": "stdout",
          "text": [
            "Edge:weight\n",
            "\n",
            "0-2:5\n",
            "2-3:1\n",
            "2-1:4\n",
            "1-4:2\n"
          ]
        }
      ],
      "source": [
        "INF=8745655\n",
        "N=5\n",
        "G=[[0,18,5,0,0],[18,0,5,9,2],[5,4,0,1,4],[0,6,1,0,7],[0,6,6,3,0]]\n",
        "selected_node=[1,0,0,0,0]\n",
        "no_edge=0\n",
        "selected_node[0]=True\n",
        "print(\"Edge:weight\\n\")\n",
        "while(no_edge<N-1):\n",
        "    minimum=INF\n",
        "    a=0\n",
        "    b=0\n",
        "    for m in range(N):\n",
        "        if selected_node[m]:\n",
        "            for n in range(N):\n",
        "                if((not selected_node[n]) and G[m][n]):\n",
        "                   if minimum > G[m][n]:\n",
        "                      minimum=G[m][n]\n",
        "                      a=m\n",
        "                      b=n\n",
        "    print(str(a)+\"-\"+str(b)+\":\"+str(G[a][b]))\n",
        "    selected_node[b]=True\n",
        "    no_edge+=1\n",
        "                      \n",
        "                   \n"
      ]
    }
  ]
}