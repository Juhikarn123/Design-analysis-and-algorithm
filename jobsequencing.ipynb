{
  "nbformat": 4,
  "nbformat_minor": 0,
  "metadata": {
    "colab": {
      "provenance": [],
      "authorship_tag": "ABX9TyNS5eXTpVxd6ElUIoJz4Jm3",
      "include_colab_link": true
    },
    "kernelspec": {
      "name": "python3",
      "display_name": "Python 3"
    },
    "language_info": {
      "name": "python"
    }
  },
  "cells": [
    {
      "cell_type": "markdown",
      "metadata": {
        "id": "view-in-github",
        "colab_type": "text"
      },
      "source": [
        "<a href=\"https://colab.research.google.com/github/Juhikarn123/Design-analysis-and-algorithm/blob/main/jobsequencing.ipynb\" target=\"_parent\"><img src=\"https://colab.research.google.com/assets/colab-badge.svg\" alt=\"Open In Colab\"/></a>"
      ]
    },
    {
      "cell_type": "code",
      "execution_count": null,
      "metadata": {
        "id": "Z-L8KyPDFfw3",
        "colab": {
          "base_uri": "https://localhost:8080/"
        },
        "outputId": "2343560a-b5e7-4f3e-c6e8-ab80b9d1c758"
      },
      "outputs": [
        {
          "output_type": "stream",
          "name": "stdout",
          "text": [
            "following is the maximum profit sequence of jobs\n",
            "['j2', 'j1', 'j3']\n"
          ]
        }
      ],
      "source": [
        "def printjobsequencing(arr,t):\n",
        "    n=len(arr)\n",
        "    for i in range(n):\n",
        "        for j in range(n-1-i):\n",
        "            if(arr[j][2]<arr[j+1][2]):\n",
        "                arr[j],arr[j+1]=arr[j+1],arr[j]\n",
        "    result=[False]*t\n",
        "    job=['-1']*t\n",
        "    for i in range(len(arr)):\n",
        "        for j in range(min(t-1,arr[i][1]-1),-1,-1):\n",
        "            if(result[j] is False):\n",
        "                result[j]=True\n",
        "                job[j]=arr[i][0]\n",
        "    print(job)\n",
        "arr=[['j1',2,60],['j2',1,100],['j3',3,20],['j4',2,40],['j5',1,20]]\n",
        "print(\"following is the maximum profit sequence of jobs\")\n",
        "printjobsequencing(arr,3)\n"
      ]
    }
  ]
}