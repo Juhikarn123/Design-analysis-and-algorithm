{
  "nbformat": 4,
  "nbformat_minor": 0,
  "metadata": {
    "colab": {
      "provenance": [],
      "include_colab_link": true
    },
    "kernelspec": {
      "name": "python3",
      "display_name": "Python 3"
    },
    "language_info": {
      "name": "python"
    }
  },
  "cells": [
    {
      "cell_type": "markdown",
      "metadata": {
        "id": "view-in-github",
        "colab_type": "text"
      },
      "source": [
        "<a href=\"https://colab.research.google.com/github/Juhikarn123/Design-analysis-and-algorithm/blob/main/isolated%20vertices.ipynb\" target=\"_parent\"><img src=\"https://colab.research.google.com/assets/colab-badge.svg\" alt=\"Open In Colab\"/></a>"
      ]
    },
    {
      "cell_type": "code",
      "execution_count": null,
      "metadata": {
        "colab": {
          "base_uri": "https://localhost:8080/"
        },
        "id": "G5hPoPjm-gA4",
        "outputId": "d40853e2-5a96-489a-9baa-8581a84e0f46"
      },
      "outputs": [
        {
          "output_type": "stream",
          "name": "stdout",
          "text": [
            "OUTPUT:\n",
            "2\n",
            "0\n",
            "isolated vertex: 1\n",
            "0\n",
            "isolated vertex: 2\n",
            "1\n"
          ]
        }
      ],
      "source": [
        "print(\"OUTPUT:\")\n",
        "class Graph:\n",
        "  v=None\n",
        "  e=None\n",
        "  diri=[]\n",
        "  def __init__(self,v,e):\n",
        "    self.v=v\n",
        "    self.e=e\n",
        "    self.diri=[[0 for i in range(v)]\n",
        "                  for j in range(v)]\n",
        "def createGraph(v,e):\n",
        "  G=Graph(v,e)\n",
        "  G.diri[0][1]=1\n",
        "  #G.diri[0][2]=1\n",
        "  G.diri[0][3]=1\n",
        "  G.diri[3][0]=1\n",
        "  return G\n",
        "def findDegree(G,ver):\n",
        "  degree=0\n",
        "  for i in range(G.v):\n",
        "    if G.diri[ver][i]==1:\n",
        "      degree+=1\n",
        "  if G.diri[ver][ver]==1:\n",
        "    degree+=1\n",
        "  return degree\n",
        "if __name__==\"__main__\":\n",
        "  vertices=4\n",
        "  edges=5\n",
        "  G=createGraph(vertices,edges)\n",
        "for i in range(0,4):\n",
        "  ver=i\n",
        "  degree=findDegree(G,ver)\n",
        "  print(degree)\n",
        "  if(degree==0):\n",
        "    print(\"isolated vertex:\",i)"
      ]
    }
  ]
}