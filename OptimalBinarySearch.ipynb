{
  "nbformat": 4,
  "nbformat_minor": 0,
  "metadata": {
    "colab": {
      "provenance": [],
      "authorship_tag": "ABX9TyPJoePSKVv/YFM1eG0XE+YO",
      "include_colab_link": true
    },
    "kernelspec": {
      "name": "python3",
      "display_name": "Python 3"
    },
    "language_info": {
      "name": "python"
    }
  },
  "cells": [
    {
      "cell_type": "markdown",
      "metadata": {
        "id": "view-in-github",
        "colab_type": "text"
      },
      "source": [
        "<a href=\"https://colab.research.google.com/github/Juhikarn123/Design-analysis-and-algorithm/blob/main/OptimalBinarySearch.ipynb\" target=\"_parent\"><img src=\"https://colab.research.google.com/assets/colab-badge.svg\" alt=\"Open In Colab\"/></a>"
      ]
    },
    {
      "cell_type": "code",
      "execution_count": null,
      "metadata": {
        "colab": {
          "base_uri": "https://localhost:8080/"
        },
        "id": "lh6QOdSIuWQI",
        "outputId": "df7e5181-36f7-4a57-9702-b17ba3b833cf"
      },
      "outputs": [
        {
          "output_type": "stream",
          "name": "stdout",
          "text": [
            "-----e-----\n",
            "[[0.05 0.   0.   0.   0.   0.  ]\n",
            " [0.   0.1  0.   0.   0.   0.  ]\n",
            " [0.   0.   0.06 0.   0.   0.  ]\n",
            " [0.   0.   0.   0.06 0.   0.  ]\n",
            " [0.   0.   0.   0.   0.05 0.  ]\n",
            " [0.   0.   0.   0.   0.   0.2 ]]\n",
            "-----w-----\n",
            "[[0.05 0.35 0.51 0.63 0.78 1.18]\n",
            " [0.   0.1  0.26 0.38 0.53 0.93]\n",
            " [0.   0.   0.06 0.18 0.33 0.73]\n",
            " [0.   0.   0.   0.06 0.21 0.61]\n",
            " [0.   0.   0.   0.   0.05 0.45]\n",
            " [0.   0.   0.   0.   0.   0.2 ]]\n",
            "-----root-----\n",
            "[[1. 1. 2. 2. 2.]\n",
            " [0. 2. 3. 3. 3.]\n",
            " [0. 0. 3. 4. 4.]\n",
            " [0. 0. 0. 4. 4.]\n",
            " [0. 0. 0. 0. 5.]]\n"
          ]
        }
      ],
      "source": [
        "import numpy as np\n",
        "import math\n",
        "def optimalBST(p,q,n):\n",
        "  e=np.zeros((n+1)**2).reshape(n+1,n+1)\n",
        "  w=np.zeros((n+1)**2).reshape(n+1,n+1)\n",
        "  root=np.zeros((n+1)**2).reshape(n+1,n+1)\n",
        "  for i in range(n+1):\n",
        "    e[i,i]=q[i]\n",
        "    w[i,i]=q[i]\n",
        "  for i in range(0,n):\n",
        "    root[i,i]=i+1\n",
        "  for l in range(1,n+1):\n",
        "    for i in range(0,n-l+1):\n",
        "      j=i+l\n",
        "      min_=math.inf\n",
        "      w[i,j]=w[i,j-1]+p[j]+q[j]\n",
        "      for r in range(i,j):\n",
        "        t=e[i,r-1+1]+e[r+1,j]+w[i,j]\n",
        "        if t<min_:\n",
        "          min_=t\n",
        "          root[i,j-1]=r+1\n",
        "  root_pruned=np.delete(np.delete(root,n,1),n,0)\n",
        "  print(\"-----e-----\")\n",
        "  print(e)\n",
        "  print(\"-----w-----\")\n",
        "  print(w)\n",
        "  print(\"-----root-----\")\n",
        "  print(root_pruned)\n",
        "def main():\n",
        "  p=[0,0.20,.1,.06,.1,.2]\n",
        "  q=[.05,.1,.06,.06,.05,.2]\n",
        "  n=len(p)-1\n",
        "  optimalBST(p,q,n)\n",
        "if __name__ =='__main__':\n",
        "  main()\n"
      ]
    }
  ]
}