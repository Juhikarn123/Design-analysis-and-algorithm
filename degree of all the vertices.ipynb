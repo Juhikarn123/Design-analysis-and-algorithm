{
  "nbformat": 4,
  "nbformat_minor": 0,
  "metadata": {
    "colab": {
      "provenance": [],
      "authorship_tag": "ABX9TyOys9fx/QYbllkZ4fulCWWq",
      "include_colab_link": true
    },
    "kernelspec": {
      "name": "python3",
      "display_name": "Python 3"
    },
    "language_info": {
      "name": "python"
    }
  },
  "cells": [
    {
      "cell_type": "markdown",
      "metadata": {
        "id": "view-in-github",
        "colab_type": "text"
      },
      "source": [
        "<a href=\"https://colab.research.google.com/github/Juhikarn123/Design-analysis-and-algorithm/blob/main/degree%20of%20all%20the%20vertices.ipynb\" target=\"_parent\"><img src=\"https://colab.research.google.com/assets/colab-badge.svg\" alt=\"Open In Colab\"/></a>"
      ]
    },
    {
      "cell_type": "code",
      "execution_count": null,
      "metadata": {
        "colab": {
          "base_uri": "https://localhost:8080/"
        },
        "id": "q7TAZUPPss8l",
        "outputId": "0498e88c-cdce-486c-8356-fa5bd9ec5894"
      },
      "outputs": [
        {
          "output_type": "stream",
          "name": "stdout",
          "text": [
            "OUTPUT:\n",
            "vertex\tIn\tOut\n",
            "0\t1\t2\n",
            "1\t2\t1\n",
            "2\t2\t3\n",
            "3\t2\t2\n",
            "4\t2\t2\n",
            "5\t2\t2\n",
            "6\t2\t1\n"
          ]
        }
      ],
      "source": [
        "def findInOutDegree(adjList,n):\n",
        "  _in=[0]*n\n",
        "  out=[0]*n\n",
        "  for i in range(0,len(adjList)):\n",
        "    List=adjList[i]\n",
        "    out[i]=len(List)\n",
        "    for j in range(0,len(List)):\n",
        "      _in[List[j]]+=1\n",
        "  print(\"vertex\\tIn\\tOut\")\n",
        "  for k in range(0,n):\n",
        "    print(str(k)+\"\\t\"+str(_in[k])+\"\\t\"+str(out[k]))\n",
        "print(\"OUTPUT:\")\n",
        "\n",
        "if __name__==\"__main__\":\n",
        "  adjList=[]\n",
        "  adjList.append([1,2])\n",
        "  adjList.append([3])\n",
        "  adjList.append([0,5,6])\n",
        "  adjList.append([1,4])\n",
        "  adjList.append([2,3])\n",
        "  adjList.append([4,6])\n",
        "  adjList.append([5])\n",
        "  n=len(adjList)\n",
        "  findInOutDegree(adjList,n)"
      ]
    }
  ]
}