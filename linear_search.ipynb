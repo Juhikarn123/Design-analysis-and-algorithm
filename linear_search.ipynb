{
  "nbformat": 4,
  "nbformat_minor": 0,
  "metadata": {
    "colab": {
      "provenance": [],
      "include_colab_link": true
    },
    "kernelspec": {
      "name": "python3",
      "display_name": "Python 3"
    },
    "language_info": {
      "name": "python"
    }
  },
  "cells": [
    {
      "cell_type": "markdown",
      "metadata": {
        "id": "view-in-github",
        "colab_type": "text"
      },
      "source": [
        "<a href=\"https://colab.research.google.com/github/Juhikarn123/Design-analysis-and-algorithm/blob/main/linear_search.ipynb\" target=\"_parent\"><img src=\"https://colab.research.google.com/assets/colab-badge.svg\" alt=\"Open In Colab\"/></a>"
      ]
    },
    {
      "cell_type": "code",
      "execution_count": null,
      "metadata": {
        "id": "VvEzTjlHq0Qc"
      },
      "outputs": [],
      "source": [
        "import random\n",
        "def linear_search(list1,n,key):\n",
        "  for i in range(0,n):\n",
        "    if(list1[i]==key):\n",
        "      return i\n",
        "  return -1"
      ]
    },
    {
      "cell_type": "code",
      "source": [
        "list1=random.sample(range(1,100),10)\n",
        "print(list1)\n",
        "key=25\n",
        "n=len(list1)\n",
        "res=linear_search(list1,n,key)\n",
        "if(res==-1):\n",
        "  print(\"elememnt not found\")\n",
        "else:\n",
        "  print(\"element found at index:\",res)"
      ],
      "metadata": {
        "colab": {
          "base_uri": "https://localhost:8080/"
        },
        "id": "61kL0d8zrOjC",
        "outputId": "ea47099c-2c59-406f-f6f9-e2fdef965099"
      },
      "execution_count": null,
      "outputs": [
        {
          "output_type": "stream",
          "name": "stdout",
          "text": [
            "[25, 97, 8, 19, 29, 63, 96, 66, 56, 12]\n",
            "element found at index: 0\n"
          ]
        }
      ]
    },
    {
      "cell_type": "code",
      "source": [
        "list1=random.sample(range(1,100),20)\n",
        "print(list1)\n",
        "key=25\n",
        "n=len(list1)\n",
        "res=linear_search(list1,n,key)\n",
        "if(res==-1):\n",
        "  print(\"elememnt not found\")\n",
        "else:\n",
        "  print(\"element found at index:\",res)"
      ],
      "metadata": {
        "colab": {
          "base_uri": "https://localhost:8080/"
        },
        "id": "W69_hMibr6JQ",
        "outputId": "507061e2-c639-4701-e844-33ed439ffe62"
      },
      "execution_count": null,
      "outputs": [
        {
          "output_type": "stream",
          "name": "stdout",
          "text": [
            "[65, 31, 38, 35, 26, 71, 84, 33, 50, 36, 44, 93, 54, 15, 49, 73, 19, 20, 53, 74]\n",
            "elememnt not found\n"
          ]
        }
      ]
    },
    {
      "cell_type": "code",
      "source": [
        "list1=random.sample(range(1,100),30)\n",
        "print(list1)\n",
        "key=28\n",
        "n=len(list1)\n",
        "res=linear_search(list1,n,key)\n",
        "if(res==-1):\n",
        "  print(\"elememnt not found\")\n",
        "else:\n",
        "  print(\"element found at index:\",res)"
      ],
      "metadata": {
        "colab": {
          "base_uri": "https://localhost:8080/"
        },
        "id": "218Iede0sB7n",
        "outputId": "b77e587b-edb7-4b06-85ef-c7361ba0294b"
      },
      "execution_count": null,
      "outputs": [
        {
          "output_type": "stream",
          "name": "stdout",
          "text": [
            "[27, 19, 33, 4, 21, 66, 64, 74, 61, 54, 96, 9, 75, 78, 85, 17, 18, 25, 56, 92, 35, 58, 47, 60, 45, 48, 57, 36, 39, 7]\n",
            "elememnt not found\n"
          ]
        }
      ]
    }
  ]
}