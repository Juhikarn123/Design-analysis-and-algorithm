{
  "nbformat": 4,
  "nbformat_minor": 0,
  "metadata": {
    "colab": {
      "provenance": [],
      "authorship_tag": "ABX9TyN3+8n9t2MOAW847GTFP6X5",
      "include_colab_link": true
    },
    "kernelspec": {
      "name": "python3",
      "display_name": "Python 3"
    },
    "language_info": {
      "name": "python"
    }
  },
  "cells": [
    {
      "cell_type": "markdown",
      "metadata": {
        "id": "view-in-github",
        "colab_type": "text"
      },
      "source": [
        "<a href=\"https://colab.research.google.com/github/Juhikarn123/Design-analysis-and-algorithm/blob/main/mergesort.ipynb\" target=\"_parent\"><img src=\"https://colab.research.google.com/assets/colab-badge.svg\" alt=\"Open In Colab\"/></a>"
      ]
    },
    {
      "cell_type": "code",
      "execution_count": null,
      "metadata": {
        "id": "euzVzmiVM1nA"
      },
      "outputs": [],
      "source": [
        "import random\n",
        "def mergeSort(myList):\n",
        "  if len(myList)>1:\n",
        "    mid=len(myList) //2\n",
        "    left=myList[:mid]\n",
        "    right=myList[mid:]\n",
        "    mergeSort(left)\n",
        "    mergeSort(right)\n",
        "    i=0\n",
        "    j=0\n",
        "    k=0\n",
        "    while i<len(left)and j<len(right):\n",
        "      if left[i]<=right[j]:\n",
        "        myList[k]=left[i]\n",
        "        i+=1\n",
        "      else:\n",
        "        myList[k]=right[j]\n",
        "        j+=1\n",
        "      k+=1\n",
        "    while i<len(left):\n",
        "          myList[k]=left[i]\n",
        "          i+=1\n",
        "          k+=1\n",
        "    while j<len(right):\n",
        "           myList[k]=right[j]\n",
        "           j+=1\n",
        "           k+=1"
      ]
    },
    {
      "cell_type": "code",
      "source": [
        "import time\n",
        "begin1=time.time()\n",
        "myList=random.sample(range(1,100),10)\n",
        "mergeSort(myList)\n",
        "print(\"the sorted array is\")\n",
        "print(myList)\n",
        "time.sleep(1)\n",
        "end1=time.time()\n",
        "time1=end1-begin1\n",
        "print(f\"total runtime of the program is {time1}\")\n"
      ],
      "metadata": {
        "colab": {
          "base_uri": "https://localhost:8080/"
        },
        "id": "tv26ZlGqRQxq",
        "outputId": "c0389182-7e16-4eca-ba1c-1de6ecc98f37"
      },
      "execution_count": null,
      "outputs": [
        {
          "output_type": "stream",
          "name": "stdout",
          "text": [
            "the sorted array is\n",
            "[3, 24, 38, 43, 55, 60, 73, 74, 80, 83]\n",
            "total runtime of the program is 1.0039069652557373\n"
          ]
        }
      ]
    },
    {
      "cell_type": "code",
      "source": [
        "import time\n",
        "begin2=time.time()\n",
        "myList=random.sample(range(1,100),15)\n",
        "mergeSort(myList)\n",
        "print(\"the sorted array is\")\n",
        "print(myList)\n",
        "time.sleep(1)\n",
        "end2=time.time()\n",
        "time2=end2-begin2\n",
        "print(f\"total runtime of the program is {time2}\")"
      ],
      "metadata": {
        "colab": {
          "base_uri": "https://localhost:8080/"
        },
        "id": "0ur4dcvKSu_I",
        "outputId": "84fc1870-49a5-43b6-ed96-3cbf8e20e786"
      },
      "execution_count": null,
      "outputs": [
        {
          "output_type": "stream",
          "name": "stdout",
          "text": [
            "the sorted array is\n",
            "[7, 12, 13, 14, 22, 31, 32, 37, 50, 57, 66, 80, 81, 88, 95]\n",
            "total runtime of the program is 1.0016272068023682\n"
          ]
        }
      ]
    },
    {
      "cell_type": "code",
      "source": [
        "import time\n",
        "begin3=time.time()\n",
        "myList=random.sample(range(1,100),20)\n",
        "mergeSort(myList)\n",
        "print(\"the sorted array is\")\n",
        "print(myList)\n",
        "time.sleep(1)\n",
        "end3=time.time()\n",
        "time3=end3-begin3\n",
        "print(f\"total runtime of the program is {time3}\")"
      ],
      "metadata": {
        "colab": {
          "base_uri": "https://localhost:8080/"
        },
        "id": "pGC5-i-tSvTP",
        "outputId": "46344567-96d3-44b9-c72c-42c6d1bd948e"
      },
      "execution_count": null,
      "outputs": [
        {
          "output_type": "stream",
          "name": "stdout",
          "text": [
            "the sorted array is\n",
            "[1, 7, 13, 18, 23, 26, 27, 33, 52, 54, 63, 67, 77, 78, 80, 84, 85, 90, 93, 95]\n",
            "total runtime of the program is 1.0016748905181885\n"
          ]
        }
      ]
    },
    {
      "cell_type": "code",
      "source": [
        "from matplotlib import pyplot as plt\n",
        "x_values=[10,15,20]\n",
        "y_values=[time1,time2,time3]\n",
        "plt.ylabel(\"time in sec\")\n",
        "plt.xlabel(\"input\")\n",
        "plt.plot(x_values,y_values)\n",
        "plt.show()"
      ],
      "metadata": {
        "colab": {
          "base_uri": "https://localhost:8080/",
          "height": 282
        },
        "id": "gzfumH7TVp1a",
        "outputId": "158091b4-d42c-48c9-da06-8b5d20ca76e1"
      },
      "execution_count": null,
      "outputs": [
        {
          "output_type": "display_data",
          "data": {
            "text/plain": [
              "<Figure size 432x288 with 1 Axes>"
            ],
            "image/png": "[encoded data removed]"
          },
          "metadata": {
            "needs_background": "light"
          }
        }
      ]
    }
  ]
}