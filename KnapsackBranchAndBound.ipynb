{
  "nbformat": 4,
  "nbformat_minor": 0,
  "metadata": {
    "colab": {
      "provenance": [],
      "authorship_tag": "ABX9TyNF/+LitURyZOfuz/VmX1l8",
      "include_colab_link": true
    },
    "kernelspec": {
      "name": "python3",
      "display_name": "Python 3"
    },
    "language_info": {
      "name": "python"
    }
  },
  "cells": [
    {
      "cell_type": "markdown",
      "metadata": {
        "id": "view-in-github",
        "colab_type": "text"
      },
      "source": [
        "<a href=\"https://colab.research.google.com/github/Juhikarn123/Design-analysis-and-algorithm/blob/main/KnapsackBranchAndBound.ipynb\" target=\"_parent\"><img src=\"https://colab.research.google.com/assets/colab-badge.svg\" alt=\"Open In Colab\"/></a>"
      ]
    },
    {
      "cell_type": "code",
      "execution_count": null,
      "metadata": {
        "colab": {
          "base_uri": "https://localhost:8080/"
        },
        "id": "pMO2C2WKqXnB",
        "outputId": "5c153cf0-c69f-44ac-8bf5-a766fdc27d55"
      },
      "outputs": [
        {
          "output_type": "stream",
          "name": "stdout",
          "text": [
            "OUTPUT:\n",
            "the objects placed intom= the kanpsack are,total profit and total weight are:\n",
            "([4, 2, 5, 0], 5100, 17)\n"
          ]
        }
      ],
      "source": [
        "def knapsack(values,weights,capacity):\n",
        "  n=len(values)\n",
        "  def score(i):return values[i]/weights[i]\n",
        "  items=sorted(range(n),key=score,reverse=True)\n",
        "  sel,value,weight=[],0,0\n",
        "  for i in items:\n",
        "    if weight+weights[i]<=capacity:\n",
        "      sel+=[i]\n",
        "      weight+=weights[i]\n",
        "      value+=values[i]\n",
        "  return sel,value,weight\n",
        "print(\"OUTPUT:\")\n",
        "weights=[4,9,10,20,2,1]\n",
        "values=[400,1800,3500,4000,1000,200]\n",
        "capacity=20\n",
        "print(\"the objects placed intom= the kanpsack are,total profit and total weight are:\")\n",
        "print(knapsack(values,weights,capacity))"
      ]
    }
  ]
}