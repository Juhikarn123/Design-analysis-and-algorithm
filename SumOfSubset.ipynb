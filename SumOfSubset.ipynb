{
  "nbformat": 4,
  "nbformat_minor": 0,
  "metadata": {
    "colab": {
      "provenance": [],
      "authorship_tag": "ABX9TyMEQ8DTJYR7hBvls6n9e2Qu",
      "include_colab_link": true
    },
    "kernelspec": {
      "name": "python3",
      "display_name": "Python 3"
    },
    "language_info": {
      "name": "python"
    }
  },
  "cells": [
    {
      "cell_type": "markdown",
      "metadata": {
        "id": "view-in-github",
        "colab_type": "text"
      },
      "source": [
        "<a href=\"https://colab.research.google.com/github/Juhikarn123/Design-analysis-and-algorithm/blob/main/SumOfSubset.ipynb\" target=\"_parent\"><img src=\"https://colab.research.google.com/assets/colab-badge.svg\" alt=\"Open In Colab\"/></a>"
      ]
    },
    {
      "cell_type": "code",
      "execution_count": null,
      "metadata": {
        "colab": {
          "base_uri": "https://localhost:8080/"
        },
        "id": "i29y_mMjoxDv",
        "outputId": "0e7c771b-1c22-4b65-a434-dd10c46651d2"
      },
      "outputs": [
        {
          "output_type": "stream",
          "name": "stdout",
          "text": [
            "subsequence with the given sum not exists\n"
          ]
        }
      ],
      "source": [
        "def SubsetSum(A,n,sum):\n",
        "  if sum==0:\n",
        "    return True\n",
        "  if n<0 or sum<0:\n",
        "    return False\n",
        "  include=SubsetSum(A,n-1,sum-A[n])\n",
        "  exclude=SubsetSum(A,n-1,sum)\n",
        "  return include or exclude\n",
        "if __name__=='__main__':\n",
        "  A=[6,3,2,5,8]\n",
        "  sum=20\n",
        "  if SubsetSum(A,len(A)-1,sum):\n",
        "    print(\"subsequence with the given sum exists\")\n",
        "  else:\n",
        "    print(\"subsequence with the given sum not exists\")\n",
        "    \n"
      ]
    }
  ]
}